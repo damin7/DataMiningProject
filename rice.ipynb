{
 "cells": [
  {
   "cell_type": "markdown",
   "id": "0e36cc26-7987-4907-8dc1-d5ffb17f81af",
   "metadata": {},
   "source": [
    "# Project 5"
   ]
  },
  {
   "cell_type": "code",
   "execution_count": 2,
   "id": "80748edc-5ba3-4eab-b341-54dbddf1af97",
   "metadata": {
    "scrolled": true
   },
   "outputs": [
    {
     "name": "stdout",
     "output_type": "stream",
     "text": [
      "Requirement already satisfied: tensorflow in /opt/anaconda3/lib/python3.12/site-packages (2.18.0)\n",
      "Requirement already satisfied: keras in /opt/anaconda3/lib/python3.12/site-packages (3.7.0)\n",
      "Requirement already satisfied: opencv-python in /opt/anaconda3/lib/python3.12/site-packages (4.10.0.84)\n",
      "Requirement already satisfied: absl-py>=1.0.0 in /opt/anaconda3/lib/python3.12/site-packages (from tensorflow) (2.1.0)\n",
      "Requirement already satisfied: astunparse>=1.6.0 in /opt/anaconda3/lib/python3.12/site-packages (from tensorflow) (1.6.3)\n",
      "Requirement already satisfied: flatbuffers>=24.3.25 in /opt/anaconda3/lib/python3.12/site-packages (from tensorflow) (24.3.25)\n",
      "Requirement already satisfied: gast!=0.5.0,!=0.5.1,!=0.5.2,>=0.2.1 in /opt/anaconda3/lib/python3.12/site-packages (from tensorflow) (0.6.0)\n",
      "Requirement already satisfied: google-pasta>=0.1.1 in /opt/anaconda3/lib/python3.12/site-packages (from tensorflow) (0.2.0)\n",
      "Requirement already satisfied: libclang>=13.0.0 in /opt/anaconda3/lib/python3.12/site-packages (from tensorflow) (18.1.1)\n",
      "Requirement already satisfied: opt-einsum>=2.3.2 in /opt/anaconda3/lib/python3.12/site-packages (from tensorflow) (3.4.0)\n",
      "Requirement already satisfied: packaging in /opt/anaconda3/lib/python3.12/site-packages (from tensorflow) (23.2)\n",
      "Requirement already satisfied: protobuf!=4.21.0,!=4.21.1,!=4.21.2,!=4.21.3,!=4.21.4,!=4.21.5,<6.0.0dev,>=3.20.3 in /opt/anaconda3/lib/python3.12/site-packages (from tensorflow) (3.20.3)\n",
      "Requirement already satisfied: requests<3,>=2.21.0 in /opt/anaconda3/lib/python3.12/site-packages (from tensorflow) (2.32.2)\n",
      "Requirement already satisfied: setuptools in /opt/anaconda3/lib/python3.12/site-packages (from tensorflow) (69.5.1)\n",
      "Requirement already satisfied: six>=1.12.0 in /opt/anaconda3/lib/python3.12/site-packages (from tensorflow) (1.16.0)\n",
      "Requirement already satisfied: termcolor>=1.1.0 in /opt/anaconda3/lib/python3.12/site-packages (from tensorflow) (2.5.0)\n",
      "Requirement already satisfied: typing-extensions>=3.6.6 in /opt/anaconda3/lib/python3.12/site-packages (from tensorflow) (4.11.0)\n",
      "Requirement already satisfied: wrapt>=1.11.0 in /opt/anaconda3/lib/python3.12/site-packages (from tensorflow) (1.14.1)\n",
      "Requirement already satisfied: grpcio<2.0,>=1.24.3 in /opt/anaconda3/lib/python3.12/site-packages (from tensorflow) (1.68.1)\n",
      "Requirement already satisfied: tensorboard<2.19,>=2.18 in /opt/anaconda3/lib/python3.12/site-packages (from tensorflow) (2.18.0)\n",
      "Requirement already satisfied: numpy<2.1.0,>=1.26.0 in /opt/anaconda3/lib/python3.12/site-packages (from tensorflow) (1.26.4)\n",
      "Requirement already satisfied: h5py>=3.11.0 in /opt/anaconda3/lib/python3.12/site-packages (from tensorflow) (3.11.0)\n",
      "Requirement already satisfied: ml-dtypes<0.5.0,>=0.4.0 in /opt/anaconda3/lib/python3.12/site-packages (from tensorflow) (0.4.1)\n",
      "Requirement already satisfied: rich in /opt/anaconda3/lib/python3.12/site-packages (from keras) (13.3.5)\n",
      "Requirement already satisfied: namex in /opt/anaconda3/lib/python3.12/site-packages (from keras) (0.0.8)\n",
      "Requirement already satisfied: optree in /opt/anaconda3/lib/python3.12/site-packages (from keras) (0.13.1)\n",
      "Requirement already satisfied: wheel<1.0,>=0.23.0 in /opt/anaconda3/lib/python3.12/site-packages (from astunparse>=1.6.0->tensorflow) (0.43.0)\n",
      "Requirement already satisfied: charset-normalizer<4,>=2 in /opt/anaconda3/lib/python3.12/site-packages (from requests<3,>=2.21.0->tensorflow) (2.0.4)\n",
      "Requirement already satisfied: idna<4,>=2.5 in /opt/anaconda3/lib/python3.12/site-packages (from requests<3,>=2.21.0->tensorflow) (3.7)\n",
      "Requirement already satisfied: urllib3<3,>=1.21.1 in /opt/anaconda3/lib/python3.12/site-packages (from requests<3,>=2.21.0->tensorflow) (2.2.2)\n",
      "Requirement already satisfied: certifi>=2017.4.17 in /opt/anaconda3/lib/python3.12/site-packages (from requests<3,>=2.21.0->tensorflow) (2024.7.4)\n",
      "Requirement already satisfied: markdown>=2.6.8 in /opt/anaconda3/lib/python3.12/site-packages (from tensorboard<2.19,>=2.18->tensorflow) (3.4.1)\n",
      "Requirement already satisfied: tensorboard-data-server<0.8.0,>=0.7.0 in /opt/anaconda3/lib/python3.12/site-packages (from tensorboard<2.19,>=2.18->tensorflow) (0.7.2)\n",
      "Requirement already satisfied: werkzeug>=1.0.1 in /opt/anaconda3/lib/python3.12/site-packages (from tensorboard<2.19,>=2.18->tensorflow) (3.0.3)\n",
      "Requirement already satisfied: markdown-it-py<3.0.0,>=2.2.0 in /opt/anaconda3/lib/python3.12/site-packages (from rich->keras) (2.2.0)\n",
      "Requirement already satisfied: pygments<3.0.0,>=2.13.0 in /opt/anaconda3/lib/python3.12/site-packages (from rich->keras) (2.15.1)\n",
      "Requirement already satisfied: mdurl~=0.1 in /opt/anaconda3/lib/python3.12/site-packages (from markdown-it-py<3.0.0,>=2.2.0->rich->keras) (0.1.0)\n",
      "Requirement already satisfied: MarkupSafe>=2.1.1 in /opt/anaconda3/lib/python3.12/site-packages (from werkzeug>=1.0.1->tensorboard<2.19,>=2.18->tensorflow) (2.1.3)\n",
      "Note: you may need to restart the kernel to use updated packages.\n"
     ]
    }
   ],
   "source": [
    "pip install tensorflow keras opencv-python"
   ]
  },
  {
   "cell_type": "markdown",
   "id": "8f920f99-2d82-4fc9-92e8-5e9a9764fe5b",
   "metadata": {},
   "source": [
    "# Imports"
   ]
  },
  {
   "cell_type": "code",
   "execution_count": 4,
   "id": "40a04884-f487-4924-aa65-ee6bb5289642",
   "metadata": {},
   "outputs": [],
   "source": [
    "# general i.o & math imports\n",
    "import cv2 as cv\n",
    "import os\n",
    "import numpy as np\n",
    "import pandas as pd\n",
    "\n",
    "# nn imports\n",
    "from sklearn.model_selection import train_test_split\n",
    "from sklearn.preprocessing import LabelEncoder\n",
    "from tensorflow.keras import layers, models"
   ]
  },
  {
   "cell_type": "markdown",
   "id": "b20ed633",
   "metadata": {},
   "source": [
    "# Introducing our Rice Types"
   ]
  },
  {
   "cell_type": "code",
   "execution_count": 6,
   "id": "ead2d3fc",
   "metadata": {},
   "outputs": [],
   "source": [
    "import matplotlib.pyplot as plt\n",
    "import matplotlib.image as mpimg"
   ]
  },
  {
   "cell_type": "code",
   "execution_count": 7,
   "id": "2bfb40bf",
   "metadata": {},
   "outputs": [
    {
     "ename": "FileNotFoundError",
     "evalue": "[Errno 2] No such file or directory: '/Users/devamin/Desktop/3162-FinalProject/riceImages/Arborio/Arborio (1).jpg'",
     "output_type": "error",
     "traceback": [
      "\u001b[0;31m---------------------------------------------------------------------------\u001b[0m",
      "\u001b[0;31mFileNotFoundError\u001b[0m                         Traceback (most recent call last)",
      "Cell \u001b[0;32mIn[7], line 1\u001b[0m\n\u001b[0;32m----> 1\u001b[0m imgArb \u001b[38;5;241m=\u001b[39m mpimg\u001b[38;5;241m.\u001b[39mimread(\u001b[38;5;124m\"\u001b[39m\u001b[38;5;124mriceImages/Arborio/Arborio (1).jpg\u001b[39m\u001b[38;5;124m\"\u001b[39m)\n\u001b[1;32m      2\u001b[0m imgBas \u001b[38;5;241m=\u001b[39m mpimg\u001b[38;5;241m.\u001b[39mimread(\u001b[38;5;124m\"\u001b[39m\u001b[38;5;124mriceImages/Basmati/Basmati (1).jpg\u001b[39m\u001b[38;5;124m\"\u001b[39m)\n\u001b[1;32m      3\u001b[0m imgIps \u001b[38;5;241m=\u001b[39m mpimg\u001b[38;5;241m.\u001b[39mimread(\u001b[38;5;124m\"\u001b[39m\u001b[38;5;124mriceImages/Ipsala/Ipsala (1).jpg\u001b[39m\u001b[38;5;124m\"\u001b[39m)\n",
      "File \u001b[0;32m/opt/anaconda3/lib/python3.12/site-packages/matplotlib/image.py:1525\u001b[0m, in \u001b[0;36mimread\u001b[0;34m(fname, format)\u001b[0m\n\u001b[1;32m   1518\u001b[0m \u001b[38;5;28;01mif\u001b[39;00m \u001b[38;5;28misinstance\u001b[39m(fname, \u001b[38;5;28mstr\u001b[39m) \u001b[38;5;129;01mand\u001b[39;00m \u001b[38;5;28mlen\u001b[39m(parse\u001b[38;5;241m.\u001b[39murlparse(fname)\u001b[38;5;241m.\u001b[39mscheme) \u001b[38;5;241m>\u001b[39m \u001b[38;5;241m1\u001b[39m:\n\u001b[1;32m   1519\u001b[0m     \u001b[38;5;66;03m# Pillow doesn't handle URLs directly.\u001b[39;00m\n\u001b[1;32m   1520\u001b[0m     \u001b[38;5;28;01mraise\u001b[39;00m \u001b[38;5;167;01mValueError\u001b[39;00m(\n\u001b[1;32m   1521\u001b[0m         \u001b[38;5;124m\"\u001b[39m\u001b[38;5;124mPlease open the URL for reading and pass the \u001b[39m\u001b[38;5;124m\"\u001b[39m\n\u001b[1;32m   1522\u001b[0m         \u001b[38;5;124m\"\u001b[39m\u001b[38;5;124mresult to Pillow, e.g. with \u001b[39m\u001b[38;5;124m\"\u001b[39m\n\u001b[1;32m   1523\u001b[0m         \u001b[38;5;124m\"\u001b[39m\u001b[38;5;124m``np.array(PIL.Image.open(urllib.request.urlopen(url)))``.\u001b[39m\u001b[38;5;124m\"\u001b[39m\n\u001b[1;32m   1524\u001b[0m         )\n\u001b[0;32m-> 1525\u001b[0m \u001b[38;5;28;01mwith\u001b[39;00m img_open(fname) \u001b[38;5;28;01mas\u001b[39;00m image:\n\u001b[1;32m   1526\u001b[0m     \u001b[38;5;28;01mreturn\u001b[39;00m (_pil_png_to_float_array(image)\n\u001b[1;32m   1527\u001b[0m             \u001b[38;5;28;01mif\u001b[39;00m \u001b[38;5;28misinstance\u001b[39m(image, PIL\u001b[38;5;241m.\u001b[39mPngImagePlugin\u001b[38;5;241m.\u001b[39mPngImageFile) \u001b[38;5;28;01melse\u001b[39;00m\n\u001b[1;32m   1528\u001b[0m             pil_to_array(image))\n",
      "File \u001b[0;32m/opt/anaconda3/lib/python3.12/site-packages/PIL/Image.py:3277\u001b[0m, in \u001b[0;36mopen\u001b[0;34m(fp, mode, formats)\u001b[0m\n\u001b[1;32m   3274\u001b[0m     filename \u001b[38;5;241m=\u001b[39m os\u001b[38;5;241m.\u001b[39mpath\u001b[38;5;241m.\u001b[39mrealpath(os\u001b[38;5;241m.\u001b[39mfspath(fp))\n\u001b[1;32m   3276\u001b[0m \u001b[38;5;28;01mif\u001b[39;00m filename:\n\u001b[0;32m-> 3277\u001b[0m     fp \u001b[38;5;241m=\u001b[39m builtins\u001b[38;5;241m.\u001b[39mopen(filename, \u001b[38;5;124m\"\u001b[39m\u001b[38;5;124mrb\u001b[39m\u001b[38;5;124m\"\u001b[39m)\n\u001b[1;32m   3278\u001b[0m     exclusive_fp \u001b[38;5;241m=\u001b[39m \u001b[38;5;28;01mTrue\u001b[39;00m\n\u001b[1;32m   3280\u001b[0m \u001b[38;5;28;01mtry\u001b[39;00m:\n",
      "\u001b[0;31mFileNotFoundError\u001b[0m: [Errno 2] No such file or directory: '/Users/devamin/Desktop/3162-FinalProject/riceImages/Arborio/Arborio (1).jpg'"
     ]
    }
   ],
   "source": [
    "imgArb = mpimg.imread(\"riceImagesSmall/Arborio/Arborio (1).jpg\")\n",
    "imgBas = mpimg.imread(\"riceImagesSmall/Basmati/Basmati (1).jpg\")\n",
    "imgIps = mpimg.imread(\"riceImagesSmall/Ipsala/Ipsala (1).jpg\")\n",
    "imgJas = mpimg.imread(\"riceImagesSmall/Jasmine/Jasmine (1).jpg\")\n",
    "imgKar = mpimg.imread(\"riceImagesSmall/Karacadag/Karacadag (1).jpg\")\n"
   ]
  },
  {
   "cell_type": "markdown",
   "id": "d8d7986b",
   "metadata": {},
   "source": [
    "## Arborio Rice\n",
    "\n",
    "Arborio rice is an Italian short-grain rice that is characterized by it's short, fat, and slightly oval shaped grains. On average a grain is about 5 mm in length"
   ]
  },
  {
   "cell_type": "code",
   "execution_count": null,
   "id": "0d0e57d1",
   "metadata": {},
   "outputs": [],
   "source": [
    "plt.imshow(imgArb)\n",
    "plt.axis('off')\n",
    "plt.show()"
   ]
  },
  {
   "cell_type": "markdown",
   "id": "08794e7a",
   "metadata": {},
   "source": [
    "## Basmati Rice\n",
    "\n",
    "Basmati rice is traditionally grown in the Indian subontinent, and is characterized by its long thin shape. It is typically around 6.61 mm in length, and about 2 mm in girth."
   ]
  },
  {
   "cell_type": "code",
   "execution_count": null,
   "id": "a7c418cc",
   "metadata": {},
   "outputs": [],
   "source": [
    "plt.imshow(imgBas)\n",
    "plt.axis('off')\n",
    "plt.show()"
   ]
  },
  {
   "cell_type": "markdown",
   "id": "39b77704",
   "metadata": {},
   "source": [
    "## Jasmine Rice\n",
    "\n",
    "Jasmine rice is grown primarily in areas of Southeast Asia, such as Thailand, Cambodia, Laos, and Vietnam. Typically it is around 7 mm in length. "
   ]
  },
  {
   "cell_type": "code",
   "execution_count": null,
   "id": "8eb944fb",
   "metadata": {},
   "outputs": [],
   "source": [
    "plt.imshow(imgJas)\n",
    "plt.axis('off')\n",
    "plt.show()"
   ]
  },
  {
   "cell_type": "markdown",
   "id": "64ce77c6",
   "metadata": {},
   "source": [
    "## Ipsala Rice\n",
    "\n",
    "Ipsala rice (also known as Baldo rice) is a short-grain rice grown in Italy and Turkey. It is typically around 7 mm in length, and 3 mm in width."
   ]
  },
  {
   "cell_type": "code",
   "execution_count": null,
   "id": "034730ca",
   "metadata": {},
   "outputs": [],
   "source": [
    "plt.imshow(imgIps)\n",
    "plt.axis('off')\n",
    "plt.show()"
   ]
  },
  {
   "cell_type": "markdown",
   "id": "ed4f2c3b",
   "metadata": {},
   "source": [
    "## Karacadag Rice\n",
    "\n",
    "Karacadag Rice grains are typically 4-6 mm long, and 3-4 mm wide. It hails from the South-Eastern Anatolia region of Turkey, and is named after the dormant volcano located there."
   ]
  },
  {
   "cell_type": "code",
   "execution_count": null,
   "id": "3e827991",
   "metadata": {},
   "outputs": [],
   "source": [
    "plt.imshow(imgKar)\n",
    "plt.axis('off')\n",
    "plt.show()"
   ]
  },
  {
   "cell_type": "markdown",
   "id": "c4a9ef99-312d-4126-9d5e-54e205ba5227",
   "metadata": {},
   "source": [
    "# Constants"
   ]
  },
  {
   "cell_type": "code",
   "execution_count": null,
   "id": "7dbcebac-2dce-41cb-af81-c63afaa4407c",
   "metadata": {},
   "outputs": [],
   "source": [
    "SCALED_IMG_SIZE = (128, 128)\n",
    "BASE_PATH = \"riceImages\"\n",
    "NORMALIZATION_SCALE = 255.0"
   ]
  },
  {
   "cell_type": "markdown",
   "id": "c1713643-3049-4376-8cc4-792993b6bea8",
   "metadata": {},
   "source": [
    "The code below requires that the rice images be in seperate folders in one directory that is in the same directory as the notebook. i.e."
   ]
  },
  {
   "attachments": {
    "d5303d20-c820-4c3a-ad2c-d4117808942d.png": {
     "image/png": "[encoded data removed]"
    }
   },
   "cell_type": "markdown",
   "id": "c63196d1-a327-4ffc-bb76-f2c164f17f3b",
   "metadata": {},
   "source": [
    "![riceImages.png](attachment:d5303d20-c820-4c3a-ad2c-d4117808942d.png)"
   ]
  },
  {
   "cell_type": "markdown",
   "id": "f2d56680-1358-4707-94cf-9a837c434f9b",
   "metadata": {},
   "source": [
    "# Pre-processing"
   ]
  },
  {
   "cell_type": "markdown",
   "id": "e860c1ad-5551-4d2a-8475-43898d819afc",
   "metadata": {},
   "source": [
    "The dataset contains images of rice placed against a black background. Each class of rice (\"Arborio\", \"Basmati\", etc.) are organized into separate folders, each containing 1,000* images. Our goal here is to preprocess these images and their labels to make them suitable for training a machine learning model.\n",
    "\n",
    "*The original dataset had far more, but we brought them down to a realistic proportion for us to work against."
   ]
  },
  {
   "cell_type": "code",
   "execution_count": null,
   "id": "10c60863-54cc-4117-b6ac-8c7479eb76af",
   "metadata": {},
   "outputs": [],
   "source": [
    "data = []   # holds the image data (processed, resized, & normalized as numpy arrays)\n",
    "labels = [] # holds the original string labels (like \"Arborio\", \"Basmati\") for each img\n",
    "\n",
    "for label in os.listdir(BASE_PATH):\n",
    "    folder_path = os.path.join(BASE_PATH, label)\n",
    "    \n",
    "    if os.path.isdir(folder_path):\n",
    "        for image_name in os.listdir(folder_path):\n",
    "            image_path = os.path.join(folder_path, image_name)\n",
    "            \n",
    "            image = cv.imread(image_path)\n",
    "            \n",
    "            if image is not None:\n",
    "                image = cv.resize(image, SCALED_IMG_SIZE)\n",
    "                \n",
    "                # normalize image to 0, 1\n",
    "                image = image / NORMALIZATION_SCALE\n",
    "                \n",
    "                data.append(image)\n",
    "                labels.append(label)\n",
    "\n",
    "# convert the data list to a numpy array\n",
    "data = np.array(data)\n",
    "labels = np.array(labels)\n",
    "\n",
    "# label to int mapping\n",
    "# i.e., mapping might look like this...\n",
    "# \"Arborio\" ->   0\n",
    "# \"Basmati\" ->   1\n",
    "# \"Ipsala\" ->    2\n",
    "# \"Jasmine\" ->   3\n",
    "# \"Karacadag\" -> 4\n",
    "label_encoder = LabelEncoder()\n",
    "labels_encoded = label_encoder.fit_transform(labels)\n",
    "\n",
    "# split the data into training and validation sets\n",
    "X_train, X_val, y_train, y_val = train_test_split(data, labels_encoded, test_size=0.2)\n",
    "\n",
    "# df\n",
    "df = pd.DataFrame(list(zip(labels, labels_encoded)), columns=[\"label\", \"encoded_label\"])"
   ]
  },
  {
   "cell_type": "markdown",
   "id": "9948c4cd-0bed-4f79-ad76-9f801d39e55b",
   "metadata": {},
   "source": [
    "We first loop through each subfolder representing the rice varieties or labels within the main riceImages directory. For each label folder, we then read each image. The images are read using OpenCV (cv.imread()), which loads the image in its original format.\n",
    "\n",
    "Each image is resized to a consistent size of 128x128 pixels using OpenCV’s cv.resize(). We're doing this since neural networks prefer when the images match aspect ratios & dimensions as input.\n",
    "\n",
    "After resizing the image, we normalize the pixel values by dividing the pixel values by 255. This makes sure values are in the range of (0-1). Normalizing the image is also good for helping the model learn more effectively since neural networks tend to converge faster when input data is scaled."
   ]
  },
  {
   "cell_type": "markdown",
   "id": "1127cec8-bf4e-4a6a-ac7c-21ba9f35c55f",
   "metadata": {},
   "source": [
    "# Modeling (just an example from pre-processing & actually using the data I worked on)"
   ]
  },
  {
   "cell_type": "code",
   "execution_count": null,
   "id": "545880c0-ff08-4771-8357-734ee40143f6",
   "metadata": {},
   "outputs": [],
   "source": [
    "# VVV using tensorflow.keras.models here VVV\n",
    "model = models.Sequential()\n",
    "\n",
    "model.add(layers.Conv2D(32, (3, 3), activation='relu', input_shape=(128, 128, 3)))\n",
    "model.add(layers.MaxPooling2D((2, 2)))\n",
    "model.add(layers.Conv2D(64, (3, 3), activation='relu'))\n",
    "model.add(layers.MaxPooling2D((2, 2)))\n",
    "model.add(layers.Conv2D(64, (3, 3), activation='relu'))\n",
    "\n",
    "model.add(layers.Flatten())\n",
    "\n",
    "model.add(layers.Dense(64, activation='relu'))\n",
    "model.add(layers.Dense(5, activation='softmax'))  # 5 classes (may be good just to use the len of labels lol)\n",
    "\n",
    "model.compile(optimizer='adam', \n",
    "              loss='sparse_categorical_crossentropy', \n",
    "              metrics=['accuracy'])\n",
    "\n",
    "# Summary of the model architecture\n",
    "model.summary()"
   ]
  },
  {
   "cell_type": "code",
   "execution_count": 15,
   "id": "d7b0c869-8807-4d23-92d7-0f6bccbf7585",
   "metadata": {},
   "outputs": [
    {
     "name": "stdout",
     "output_type": "stream",
     "text": [
      "Found 4000 images belonging to 5 classes.\n",
      "Found 1000 images belonging to 5 classes.\n"
     ]
    },
    {
     "name": "stderr",
     "output_type": "stream",
     "text": [
      "/opt/anaconda3/lib/python3.12/site-packages/keras/src/layers/convolutional/base_conv.py:107: UserWarning: Do not pass an `input_shape`/`input_dim` argument to a layer. When using Sequential models, prefer using an `Input(shape)` object as the first layer in the model instead.\n",
      "  super().__init__(activity_regularizer=activity_regularizer, **kwargs)\n",
      "/opt/anaconda3/lib/python3.12/site-packages/keras/src/trainers/data_adapters/py_dataset_adapter.py:121: UserWarning: Your `PyDataset` class should call `super().__init__(**kwargs)` in its constructor. `**kwargs` can include `workers`, `use_multiprocessing`, `max_queue_size`. Do not pass these arguments to `fit()`, as they will be ignored.\n",
      "  self._warn_if_super_not_called()\n"
     ]
    },
    {
     "name": "stdout",
     "output_type": "stream",
     "text": [
      "Epoch 1/10\n",
      "\u001b[1m125/125\u001b[0m \u001b[32m━━━━━━━━━━━━━━━━━━━━\u001b[0m\u001b[37m\u001b[0m \u001b[1m45s\u001b[0m 355ms/step - accuracy: 0.7059 - loss: 0.7268 - val_accuracy: 0.9750 - val_loss: 0.0842\n",
      "Epoch 2/10\n",
      "\u001b[1m125/125\u001b[0m \u001b[32m━━━━━━━━━━━━━━━━━━━━\u001b[0m\u001b[37m\u001b[0m \u001b[1m41s\u001b[0m 327ms/step - accuracy: 0.9569 - loss: 0.1205 - val_accuracy: 0.9610 - val_loss: 0.1207\n",
      "Epoch 3/10\n",
      "\u001b[1m125/125\u001b[0m \u001b[32m━━━━━━━━━━━━━━━━━━━━\u001b[0m\u001b[37m\u001b[0m \u001b[1m44s\u001b[0m 355ms/step - accuracy: 0.9644 - loss: 0.1156 - val_accuracy: 0.9740 - val_loss: 0.0859\n",
      "Epoch 4/10\n",
      "\u001b[1m125/125\u001b[0m \u001b[32m━━━━━━━━━━━━━━━━━━━━\u001b[0m\u001b[37m\u001b[0m \u001b[1m41s\u001b[0m 328ms/step - accuracy: 0.9700 - loss: 0.0934 - val_accuracy: 0.9790 - val_loss: 0.0683\n",
      "Epoch 5/10\n",
      "\u001b[1m125/125\u001b[0m \u001b[32m━━━━━━━━━━━━━━━━━━━━\u001b[0m\u001b[37m\u001b[0m \u001b[1m40s\u001b[0m 322ms/step - accuracy: 0.9764 - loss: 0.0661 - val_accuracy: 0.9850 - val_loss: 0.0508\n",
      "Epoch 6/10\n",
      "\u001b[1m125/125\u001b[0m \u001b[32m━━━━━━━━━━━━━━━━━━━━\u001b[0m\u001b[37m\u001b[0m \u001b[1m39s\u001b[0m 314ms/step - accuracy: 0.9778 - loss: 0.0681 - val_accuracy: 0.9760 - val_loss: 0.0722\n",
      "Epoch 7/10\n",
      "\u001b[1m125/125\u001b[0m \u001b[32m━━━━━━━━━━━━━━━━━━━━\u001b[0m\u001b[37m\u001b[0m \u001b[1m39s\u001b[0m 316ms/step - accuracy: 0.9762 - loss: 0.0624 - val_accuracy: 0.9730 - val_loss: 0.0867\n",
      "Epoch 8/10\n",
      "\u001b[1m125/125\u001b[0m \u001b[32m━━━━━━━━━━━━━━━━━━━━\u001b[0m\u001b[37m\u001b[0m \u001b[1m40s\u001b[0m 318ms/step - accuracy: 0.9784 - loss: 0.0585 - val_accuracy: 0.9770 - val_loss: 0.0594\n",
      "Epoch 9/10\n",
      "\u001b[1m125/125\u001b[0m \u001b[32m━━━━━━━━━━━━━━━━━━━━\u001b[0m\u001b[37m\u001b[0m \u001b[1m53s\u001b[0m 419ms/step - accuracy: 0.9809 - loss: 0.0486 - val_accuracy: 0.9740 - val_loss: 0.0958\n",
      "Epoch 10/10\n",
      "\u001b[1m125/125\u001b[0m \u001b[32m━━━━━━━━━━━━━━━━━━━━\u001b[0m\u001b[37m\u001b[0m \u001b[1m61s\u001b[0m 489ms/step - accuracy: 0.9845 - loss: 0.0439 - val_accuracy: 0.9840 - val_loss: 0.0634\n",
      "\u001b[1m32/32\u001b[0m \u001b[32m━━━━━━━━━━━━━━━━━━━━\u001b[0m\u001b[37m\u001b[0m \u001b[1m5s\u001b[0m 135ms/step\n",
      "F1 Score: 0.9839983079343857\n",
      "              precision    recall  f1-score   support\n",
      "\n",
      "     Arborio       0.98      0.96      0.97       200\n",
      "     Basmati       1.00      0.98      0.99       200\n",
      "      Ipsala       1.00      0.99      1.00       200\n",
      "     Jasmine       0.98      1.00      0.99       200\n",
      "   Karacadag       0.97      0.98      0.98       200\n",
      "\n",
      "    accuracy                           0.98      1000\n",
      "   macro avg       0.98      0.98      0.98      1000\n",
      "weighted avg       0.98      0.98      0.98      1000\n",
      "\n"
     ]
    }
   ],
   "source": [
    "import tensorflow as tf\n",
    "from tensorflow.keras.models import Sequential\n",
    "from tensorflow.keras.layers import Conv2D, MaxPooling2D, Flatten, Dense, Dropout\n",
    "from tensorflow.keras.preprocessing.image import ImageDataGenerator\n",
    "from sklearn.metrics import classification_report, f1_score\n",
    "import numpy as np\n",
    "\n",
    "# Define parameters\n",
    "image_size = (128, 128)\n",
    "batch_size = 32\n",
    "epochs = 10\n",
    "\n",
    "# Data augmentation and normalization\n",
    "datagen = ImageDataGenerator(\n",
    "    rescale=1.0/255.0,   # Normalize pixel values\n",
    "    validation_split=0.2 # Split dataset into training and validation\n",
    ")\n",
    "\n",
    "# Training and validation data generators\n",
    "train_generator = datagen.flow_from_directory(\n",
    "    'riceImagesSmall', # Replace with your dataset path\n",
    "    target_size=image_size,\n",
    "    batch_size=batch_size,\n",
    "    class_mode='categorical',\n",
    "    subset='training',\n",
    "    shuffle=True\n",
    ")\n",
    "\n",
    "val_generator = datagen.flow_from_directory(\n",
    "    'riceImagesSmall', # Replace with your dataset path\n",
    "    target_size=image_size,\n",
    "    batch_size=batch_size,\n",
    "    class_mode='categorical',\n",
    "    subset='validation',\n",
    "    shuffle=False\n",
    ")\n",
    "\n",
    "# Model definition\n",
    "model = Sequential([\n",
    "    Conv2D(32, (3, 3), activation='relu', input_shape=(128, 128, 3)),\n",
    "    MaxPooling2D((2, 2)),\n",
    "    Conv2D(64, (3, 3), activation='relu'),\n",
    "    MaxPooling2D((2, 2)),\n",
    "    Conv2D(128, (3, 3), activation='relu'),\n",
    "    MaxPooling2D((2, 2)),\n",
    "    Flatten(),\n",
    "    Dense(128, activation='relu'),\n",
    "    Dropout(0.5),\n",
    "    Dense(len(train_generator.class_indices), activation='softmax')\n",
    "])\n",
    "\n",
    "# Compile the model\n",
    "model.compile(optimizer='adam',\n",
    "              loss='categorical_crossentropy',\n",
    "              metrics=['accuracy'])\n",
    "\n",
    "# Train the model\n",
    "model.fit(\n",
    "    train_generator,\n",
    "    validation_data=val_generator,\n",
    "    epochs=epochs\n",
    ")\n",
    "\n",
    "# Evaluate the model\n",
    "val_generator.reset()  # Ensure generator starts from the beginning\n",
    "predictions = model.predict(val_generator)\n",
    "y_pred = np.argmax(predictions, axis=1)\n",
    "y_true = val_generator.classes\n",
    "\n",
    "# Compute F1 score\n",
    "f1 = f1_score(y_true, y_pred, average='weighted')\n",
    "print(\"F1 Score:\", f1)\n",
    "\n",
    "# Classification report\n",
    "print(classification_report(y_true, y_pred, target_names=list(train_generator.class_indices.keys())))\n"
   ]
  },
  {
   "cell_type": "markdown",
   "id": "1a4247c3-4e5f-4e5c-bc7e-f50e4b0e2b37",
   "metadata": {},
   "source": [
    "The model achieves excellent classification performance across five rice types, with an overall accuracy of 98%.\n",
    "\n",
    "## Key Observations:\n",
    "\n",
    "\n",
    "    Class-Specific Performance:\n",
    "\n",
    "        Basmati and Ipsala have perfect recall and F1-scores, showing no misclassifications.\n",
    "        Arborio and Karacadag have slightly lower recall (0.96 and 0.98), indicating minor misclassifications.\n",
    "        \n",
    "    Overall Performance:\n",
    "\n",
    "        Precision, recall, and F1-scores are consistently high (0.97–1.00) across all classes.\n",
    "        Macro and weighted averages are both 0.98, confirming balanced performance across all rice types.\n",
    "        \n",
    "    Model Robustness:\n",
    "\n",
    "    The model demonstrates excellent generalization with 98% accuracy on the validation set, indicating readiness for practical applications."
   ]
  },
  {
   "cell_type": "markdown",
   "id": "dc437b3a",
   "metadata": {},
   "source": [
    "## Model Visualization\n",
    "\n",
    "Below we'll be making a visualization of how model works. \n",
    "\n",
    "There are a few ways we can do this, but we'll be using visualkeras this time."
   ]
  },
  {
   "cell_type": "code",
   "execution_count": null,
   "id": "25f8d461",
   "metadata": {},
   "outputs": [],
   "source": [
    "import visualkeras"
   ]
  },
  {
   "cell_type": "code",
   "execution_count": null,
   "id": "21847111",
   "metadata": {},
   "outputs": [],
   "source": [
    "visualkeras.layered_view(model)"
   ]
  },
  {
   "cell_type": "markdown",
   "id": "581eb6c4",
   "metadata": {},
   "source": [
    "Each block in our above visualization of our model corresponds to a layer or operation in our model. The layout helps illustrate the flow of data through our Neural Network and how it condenses as it progresses through it.\n",
    "The first layer is our input data, which has a high number of input images. \n",
    "\n",
    "Layer 1: conv2d - this is where our model learns spacial hierarchies of patterns such as edges, textures, or more complex features in our images.\n",
    "Layer 2: maxpooling2d - this reduces the spatial dimensions of our input data, reducing the computational cost while retaining the most important information from our input data\n",
    "Layers 3 - 6 repeat the first two steps a couple more times.\n",
    "Layer 7: flatten\n",
    "Layer 8: dense\n",
    "Layer 9: dropout\n",
    "Layer 10: dense\n",
    "\n",
    "\n",
    "\n"
   ]
  }
 ],
 "metadata": {
  "kernelspec": {
   "display_name": "Python 3 (ipykernel)",
   "language": "python",
   "name": "python3"
  },
  "language_info": {
   "codemirror_mode": {
    "name": "ipython",
    "version": 3
   },
   "file_extension": ".py",
   "mimetype": "text/x-python",
   "name": "python",
   "nbconvert_exporter": "python",
   "pygments_lexer": "ipython3",
   "version": "3.12.4"
  }
 },
 "nbformat": 4,
 "nbformat_minor": 5
}
